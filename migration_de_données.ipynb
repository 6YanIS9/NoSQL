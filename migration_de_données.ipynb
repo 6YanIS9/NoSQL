{
  "nbformat": 4,
  "nbformat_minor": 0,
  "metadata": {
    "colab": {
      "provenance": []
    },
    "kernelspec": {
      "name": "python3",
      "display_name": "Python 3"
    },
    "language_info": {
      "name": "python"
    }
  },
  "cells": [
    {
      "cell_type": "markdown",
      "source": [
        "# **installation de la bibliotheque NEO4j**"
      ],
      "metadata": {
        "id": "DyhlLR5Q3CUX"
      }
    },
    {
      "cell_type": "code",
      "execution_count": 1,
      "metadata": {
        "colab": {
          "base_uri": "https://localhost:8080/"
        },
        "id": "gV4-3y7L21YQ",
        "outputId": "6d169486-cc1d-4675-b805-343b78393290"
      },
      "outputs": [
        {
          "output_type": "stream",
          "name": "stdout",
          "text": [
            "Collecting neo4j\n",
            "  Downloading neo4j-5.28.1-py3-none-any.whl.metadata (5.9 kB)\n",
            "Requirement already satisfied: pytz in /usr/local/lib/python3.11/dist-packages (from neo4j) (2025.1)\n",
            "Downloading neo4j-5.28.1-py3-none-any.whl (312 kB)\n",
            "\u001b[2K   \u001b[90m━━━━━━━━━━━━━━━━━━━━━━━━━━━━━━━━━━━━━━━━\u001b[0m \u001b[32m312.3/312.3 kB\u001b[0m \u001b[31m4.8 MB/s\u001b[0m eta \u001b[36m0:00:00\u001b[0m\n",
            "\u001b[?25hInstalling collected packages: neo4j\n",
            "Successfully installed neo4j-5.28.1\n",
            "\u001b[31mERROR: Could not find a version that satisfies the requirement sqlite3 (from versions: none)\u001b[0m\u001b[31m\n",
            "\u001b[0m\u001b[31mERROR: No matching distribution found for sqlite3\u001b[0m\u001b[31m\n",
            "\u001b[0m"
          ]
        }
      ],
      "source": [
        "! pip install neo4j\n",
        "! pip install sqlite3\n",
        "! pip install os\n"
      ]
    },
    {
      "cell_type": "markdown",
      "source": [
        "# Migration de données du modèle relationnel vers la base postgres"
      ],
      "metadata": {
        "id": "PL_WLMU83R9K"
      }
    },
    {
      "cell_type": "code",
      "source": [
        "import os\n",
        "import sqlite3\n",
        "from neo4j import GraphDatabase\n",
        "\n",
        "# Fonction pour se connecter à SQLite avec un chemin relatif\n",
        "def connect_to_sqlite(db_name=\"infractions.db\"):\n",
        "    db_path = os.path.join(os.path.dirname(__file__), db_name)\n",
        "    if not os.path.exists(db_path):\n",
        "        raise FileNotFoundError(f\"Le fichier {db_name} est introuvable dans le dossier du script.\")\n",
        "    return sqlite3.connect(db_path)\n",
        "\n",
        "# Fonction pour se connecter à Neo4j\n",
        "def connect_to_neo4j():\n",
        "    uri = input(\"Entrez l'URI de Neo4j (par défaut: bolt://localhost:7687): \") or \"bolt://localhost:7687\"\n",
        "    user = input(\"Entrez le nom d'utilisateur Neo4j (par défaut: neo4j): \") or \"neo4j\"\n",
        "    password = input(\"Entrez le mot de passe Neo4j: \")\n",
        "    return GraphDatabase.driver(uri, auth=(user, password))\n",
        "\n",
        "# Fonction pour insérer un nœud dans Neo4j\n",
        "def create_node(tx, label, properties):\n",
        "    query = f\"CREATE (n:{label} {{ {', '.join([f'{key}: ${key}' for key in properties])} }})\"\n",
        "    tx.run(query, **properties)\n",
        "\n",
        "# Fonction pour créer une relation entre deux nœuds\n",
        "def create_relationship(tx, start_label, start_key, end_label, end_key, rel_type):\n",
        "    query = f\"\"\"\n",
        "    MATCH (a:{start_label} {{ {start_key[0]}: ${start_key[1]} }}), (b:{end_label} {{ {end_key[0]}: ${end_key[1]} }})\n",
        "    CREATE (a)-[:{rel_type}]->(b)\n",
        "    \"\"\"\n",
        "    tx.run(query, **{start_key[1]: start_key[2], end_key[1]: end_key[2]})\n",
        "\n",
        "# Fonction principale de migration\n",
        "def migrate_data(sqlite_conn, neo4j_driver):\n",
        "    sqlite_cursor = sqlite_conn.cursor()\n",
        "    with neo4j_driver.session() as session:\n",
        "\n",
        "        # Table infractions -> Noeuds (Infraction)\n",
        "        sqlite_cursor.execute(\"SELECT code_infr, lib_infr FROM infractions\")\n",
        "        for code_infr, lib_infr in sqlite_cursor.fetchall():\n",
        "            session.write_transaction(create_node, \"Infraction\", {\"code_infr\": code_infr, \"lib_infr\": lib_infr})\n",
        "\n",
        "        # Table départements -> Noeuds (Département)\n",
        "        sqlite_cursor.execute(\"SELECT code_dep, nom_dep FROM départements\")\n",
        "        for code_dep, nom_dep in sqlite_cursor.fetchall():\n",
        "            session.write_transaction(create_node, \"Departement\", {\"code_dep\": code_dep, \"nom_dep\": nom_dep})\n",
        "\n",
        "        # Table force_odre -> Noeuds (ForceOrdre)\n",
        "        sqlite_cursor.execute(\"SELECT force_odre FROM force_odre\")\n",
        "        for force_odre, in sqlite_cursor.fetchall():\n",
        "            session.write_transaction(create_node, \"ForceOrdre\", {\"force_odre\": force_odre})\n",
        "\n",
        "        # Table brigade -> Noeuds (Brigade) avec relations vers Département et ForceOrdre\n",
        "        sqlite_cursor.execute(\"SELECT id_brigade, lib_brigade, lib_perimetre, code_dep, force_odre FROM brigade\")\n",
        "        for id_brigade, lib_brigade, lib_perimetre, code_dep, force_odre in sqlite_cursor.fetchall():\n",
        "            session.write_transaction(create_node, \"Brigade\", {\n",
        "                \"id_brigade\": id_brigade,\n",
        "                \"lib_brigade\": lib_brigade,\n",
        "                \"lib_perimetre\": lib_perimetre,\n",
        "                \"code_dep\": code_dep,\n",
        "                \"force_odre\": force_odre\n",
        "            })\n",
        "\n",
        "        # Table fait -> Relation entre Brigade et Infraction\n",
        "        sqlite_cursor.execute(\"SELECT code_infr, id_brigade, annee, nb_infraction FROM fait\")\n",
        "        for code_infr, id_brigade, annee, nb_infraction in sqlite_cursor.fetchall():\n",
        "            session.write_transaction(create_relationship,\n",
        "                                     \"Brigade\", (\"id_brigade\", \"id_brigade\", id_brigade),\n",
        "                                     \"Infraction\", (\"code_infr\", \"code_infr\", code_infr),\n",
        "                                     \"A_COMMIS\")\n",
        "\n",
        "# Point d'entrée du script\n",
        "if __name__ == \"__main__\":\n",
        "    try:\n",
        "        # Connexion à SQLite\n",
        "        sqlite_conn = connect_to_sqlite()\n",
        "        print(\"Connexion à SQLite réussie.\")\n",
        "\n",
        "        # Connexion à Neo4j\n",
        "        neo4j_driver = connect_to_neo4j()\n",
        "        print(\"Connexion à Neo4j réussie.\")\n",
        "\n",
        "        # Migration des données\n",
        "        print(\"Début de la migration...\")\n",
        "        migrate_data(sqlite_conn, neo4j_driver)\n",
        "        print(\"Migration terminée avec succès.\")\n",
        "\n",
        "    except Exception as e:\n",
        "        print(f\"Une erreur est survenue : {e}\")\n",
        "\n",
        "    finally:\n",
        "        # Fermeture des connexions\n",
        "        if sqlite_conn:\n",
        "            sqlite_conn.close()\n",
        "        if neo4j_driver:\n",
        "            neo4j_driver.close()\n"
      ],
      "metadata": {
        "id": "Jh83BLPM3HUG"
      },
      "execution_count": null,
      "outputs": []
    }
  ]
}