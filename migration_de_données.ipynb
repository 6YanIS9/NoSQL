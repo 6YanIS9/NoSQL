{
  "cells": [
    {
      "cell_type": "markdown",
      "metadata": {
        "id": "DyhlLR5Q3CUX"
      },
      "source": [
        "# **installation de la bibliotheque NEO4j**"
      ]
    },
    {
      "cell_type": "code",
      "execution_count": 1,
      "metadata": {
        "colab": {
          "base_uri": "https://localhost:8080/"
        },
        "id": "gV4-3y7L21YQ",
        "outputId": "6d169486-cc1d-4675-b805-343b78393290"
      },
      "outputs": [
        {
          "name": "stdout",
          "output_type": "stream",
          "text": [
            "Collecting neo4j\n",
            "  Using cached neo4j-5.28.1-py3-none-any.whl.metadata (5.9 kB)\n",
            "Requirement already satisfied: pytz in c:\\users\\yanis\\appdata\\local\\programs\\python\\python312\\lib\\site-packages (from neo4j) (2024.2)\n",
            "Using cached neo4j-5.28.1-py3-none-any.whl (312 kB)\n",
            "Installing collected packages: neo4j\n",
            "Successfully installed neo4j-5.28.1\n"
          ]
        },
        {
          "name": "stderr",
          "output_type": "stream",
          "text": [
            "\n",
            "[notice] A new release of pip is available: 24.3.1 -> 25.0.1\n",
            "[notice] To update, run: python.exe -m pip install --upgrade pip\n",
            "ERROR: Could not find a version that satisfies the requirement sqlite3 (from versions: none)\n",
            "\n",
            "[notice] A new release of pip is available: 24.3.1 -> 25.0.1\n",
            "[notice] To update, run: python.exe -m pip install --upgrade pip\n",
            "ERROR: No matching distribution found for sqlite3\n",
            "ERROR: Could not find a version that satisfies the requirement os (from versions: none)\n",
            "\n",
            "[notice] A new release of pip is available: 24.3.1 -> 25.0.1\n",
            "[notice] To update, run: python.exe -m pip install --upgrade pip\n",
            "ERROR: No matching distribution found for os\n"
          ]
        }
      ],
      "source": [
        "! pip install neo4j\n",
        "! pip install sqlite3\n",
        "! pip install os\n"
      ]
    },
    {
      "cell_type": "markdown",
      "metadata": {
        "id": "PL_WLMU83R9K"
      },
      "source": [
        "# Migration de données du modèle relationnel vers la base postgres"
      ]
    },
    {
      "cell_type": "code",
      "execution_count": null,
      "metadata": {
        "id": "Jh83BLPM3HUG"
      },
      "outputs": [
        {
          "name": "stdout",
          "output_type": "stream",
          "text": [
            "✅ Connexion à SQLite réussie.\n",
            "✅ Connexion à Neo4j réussie.\n",
            "🚀 Début de la migration des données...\n",
            "➡ Migration des infractions...\n",
            "✅ Infractions migrées.\n",
            "➡ Migration des départements...\n",
            "✅ Départements migrés.\n",
            "➡ Migration des forces de l'ordre...\n",
            "✅ Forces de l'ordre migrées.\n",
            "➡ Migration des brigades...\n",
            "✅ Brigades migrées.\n",
            "➡ Création des relations Brigade ↔ Infraction...\n",
            "✅ Relations Brigade ↔ Infraction créées.\n",
            "🎉 Migration terminée avec succès.\n"
          ]
        }
      ],
      "source": [
        "import os\n",
        "import sqlite3\n",
        "from neo4j import GraphDatabase\n",
        "\n",
        "# Fonction pour se connecter à SQLite avec un chemin absolu\n",
        "def connect_to_sqlite(db_name=\"infractions.db\"):\n",
        "    db_path = os.path.abspath(db_name)\n",
        "    if not os.path.exists(db_path):\n",
        "        raise FileNotFoundError(f\"Le fichier {db_name} est introuvable.\")\n",
        "    return sqlite3.connect(db_path)\n",
        "\n",
        "# Fonction pour se connecter à Neo4j\n",
        "def connect_to_neo4j():\n",
        "    uri = input(\"Entrez l'URI de Neo4j (par défaut: bolt://localhost:7687): \") or \"bolt://localhost:7687\"\n",
        "    user = input(\"Entrez le nom d'utilisateur Neo4j (par défaut: neo4j): \") or \"neo4j\"\n",
        "    password = input(\"Entrez le mot de passe Neo4j: \")\n",
        "    return GraphDatabase.driver(uri, auth=(user, password))\n",
        "\n",
        "# Fonction pour insérer plusieurs nœuds en batch\n",
        "def create_nodes(tx, label, data_list):\n",
        "    if not data_list:\n",
        "        return\n",
        "    query = f\"\"\"\n",
        "    UNWIND $data AS row\n",
        "    CREATE (n:{label})\n",
        "    SET n = row\n",
        "    \"\"\"\n",
        "    tx.run(query, data=data_list)\n",
        "\n",
        "# Fonction pour insérer plusieurs relations en batch\n",
        "def create_relationships(tx, start_label, start_key, end_label, end_key, rel_type, data_list):\n",
        "    if not data_list:\n",
        "        return\n",
        "    query = f\"\"\"\n",
        "    UNWIND $data AS row\n",
        "    MATCH (a:{start_label} {{ {start_key}: row.{start_key} }})\n",
        "    MATCH (b:{end_label} {{ {end_key}: row.{end_key} }})\n",
        "    CREATE (a)-[:{rel_type}]->(b)\n",
        "    \"\"\"\n",
        "    tx.run(query, data=data_list)\n",
        "\n",
        "# Fonction pour insérer les faits et créer les relations associées\n",
        "def create_fait_relationships(tx, data_list):\n",
        "    if not data_list:\n",
        "        return\n",
        "    query = f\"\"\"\n",
        "    UNWIND $data AS row\n",
        "    MATCH (b:Brigade {{ id_brigade: row.id_brigade }})\n",
        "    MATCH (i:Infraction {{ code_infr: row.code_infr }})\n",
        "    MATCH (d:Departement {{ code_dep: row.code_dep }})\n",
        "    CREATE (f:Fait {{\n",
        "        annee: row.annee,\n",
        "        nb_infraction: row.nb_infraction,\n",
        "        force_odre: row.force_odre\n",
        "    }})\n",
        "    CREATE (b)-[:A_ENREGISTRÉ]->(f)\n",
        "    CREATE (f)-[:CONCERNE]->(i)\n",
        "    CREATE (f)-[:DANS]->(d)\n",
        "    \"\"\"\n",
        "    tx.run(query, data=data_list)\n",
        "\n",
        "# Fonction principale de migration\n",
        "def migrate_data(sqlite_conn, neo4j_driver, batch_size=10000):\n",
        "    sqlite_cursor = sqlite_conn.cursor()\n",
        "    with neo4j_driver.session() as session:\n",
        "\n",
        "        # Migration des infractions\n",
        "        print(\"➡ Migration des infractions...\")\n",
        "        sqlite_cursor.execute(\"SELECT code_infr, lib_infr FROM infractions\")\n",
        "        batch = [{\"code_infr\": row[0], \"lib_infr\": row[1]} for row in sqlite_cursor.fetchall()]\n",
        "        session.execute_write(create_nodes, \"Infraction\", batch)\n",
        "        print(\"✅ Infractions migrées.\")\n",
        "\n",
        "        # Migration des départements\n",
        "        print(\"➡ Migration des départements...\")\n",
        "        sqlite_cursor.execute(\"SELECT code_dep, nom_dep FROM departements\")\n",
        "        batch = [{\"code_dep\": row[0], \"nom_dep\": row[1]} for row in sqlite_cursor.fetchall()]\n",
        "        session.execute_write(create_nodes, \"Departement\", batch)\n",
        "        print(\"✅ Départements migrés.\")\n",
        "\n",
        "        # Migration des forces de l'ordre\n",
        "        print(\"➡ Migration des forces de l'ordre...\")\n",
        "        sqlite_cursor.execute(\"SELECT force_odre FROM force_odre\")\n",
        "        batch = [{\"force_odre\": row[0]} for row in sqlite_cursor.fetchall()]\n",
        "        session.execute_write(create_nodes, \"ForceOrdre\", batch)\n",
        "        print(\"✅ Forces de l'ordre migrées.\")\n",
        "\n",
        "        # Migration des brigades\n",
        "        print(\"➡ Migration des brigades...\")\n",
        "        sqlite_cursor.execute(\"SELECT id_brigade, lib_brigade, lib_perimetre, code_dep, force_odre FROM brigade\")\n",
        "        batch = [{\"id_brigade\": row[0], \"lib_brigade\": row[1], \"lib_perimetre\": row[2], \"code_dep\": row[3], \"force_odre\": row[4]} for row in sqlite_cursor.fetchall()]\n",
        "        session.execute_write(create_nodes, \"Brigade\", batch)\n",
        "        print(\"✅ Brigades migrées.\")\n",
        "\n",
        "        # Création des relations Brigade ↔ Département\n",
        "        print(\"➡ Création des relations Brigade ↔ Département...\")\n",
        "        session.execute_write(create_relationships, \"Brigade\", \"code_dep\", \"Departement\", \"code_dep\", \"APPARTIENT_A\", batch)\n",
        "        print(\"✅ Relations créées.\")\n",
        "\n",
        "        # Création des relations Brigade ↔ Force de l'ordre\n",
        "        print(\"➡ Création des relations Brigade ↔ Force de l'ordre...\")\n",
        "        session.execute_write(create_relationships, \"Brigade\", \"force_odre\", \"ForceOrdre\", \"force_odre\", \"FAIT_PARTIE_DE\", batch)\n",
        "        print(\"✅ Relations créées.\")\n",
        "\n",
        "        # Migration des faits et relations Brigade ↔ Fait ↔ Infraction\n",
        "        print(\"➡ Migration des faits (infractions enregistrées)...\")\n",
        "        sqlite_cursor.execute(\"SELECT code_infr, id_brigade, annee, nb_infraction, code_dep, force_odre FROM fait\")\n",
        "        batch = [{\"code_infr\": row[0], \"id_brigade\": row[1], \"annee\": row[2], \"nb_infraction\": row[3], \"code_dep\": row[4], \"force_odre\": row[5]} for row in sqlite_cursor.fetchall()]\n",
        "        session.execute_write(create_fait_relationships, batch)\n",
        "        print(\"✅ Faits migrés avec succès.\")\n",
        "\n",
        "# Point d'entrée du script\n",
        "if __name__ == \"__main__\":\n",
        "    sqlite_conn = None\n",
        "    neo4j_driver = None\n",
        "\n",
        "    try:\n",
        "        sqlite_conn = connect_to_sqlite()\n",
        "        print(\"✅ Connexion à SQLite réussie.\")\n",
        "\n",
        "        neo4j_driver = connect_to_neo4j()\n",
        "        print(\"✅ Connexion à Neo4j réussie.\")\n",
        "\n",
        "        print(\"🚀 Début de la migration des données...\")\n",
        "        migrate_data(sqlite_conn, neo4j_driver)\n",
        "        print(\"🎉 Migration terminée avec succès.\")\n",
        "\n",
        "    except Exception as e:\n",
        "        print(f\"❌ Erreur : {e}\")\n",
        "\n",
        "    finally:\n",
        "        if sqlite_conn is not None:\n",
        "            sqlite_conn.close()\n",
        "        if neo4j_driver is not None:\n",
        "            neo4j_driver.close()\n"
      ]
    }
  ],
  "metadata": {
    "colab": {
      "provenance": []
    },
    "kernelspec": {
      "display_name": "Python 3",
      "name": "python3"
    },
    "language_info": {
      "codemirror_mode": {
        "name": "ipython",
        "version": 3
      },
      "file_extension": ".py",
      "mimetype": "text/x-python",
      "name": "python",
      "nbconvert_exporter": "python",
      "pygments_lexer": "ipython3",
      "version": "3.12.6"
    }
  },
  "nbformat": 4,
  "nbformat_minor": 0
}
